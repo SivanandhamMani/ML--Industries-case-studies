import pandas as pd
from sklearn.linear_model import LinearRegression

from google.colab import files
uploaded = files.upload()

dataset = pd.read_csv('data.csv')

print(dataset.shape)
print(dataset.head)

dataset.columns[dataset.isna().any()]
dataset.hours = dataset.hours.fillna(dataset.hours.mean())

X = dataset.iloc[:, :-1].values
y = dataset.iloc[:, 1].values

from sklearn.model_selection import train_test_split
X_train, X_test, y_train, y_test = train_test_split(X, y, test_size=0.2, random_state=0)

model = LinearRegression()
model.fit(X_train, y_train)

ypred = model.predict(X_test)

from sklearn.metrics import r2_score, mean_squared_error, mean_absolute_error
import numpy as np
r2score = r2_score(y_test, ypred)
print("R2score",r2score)
mse = mean_squared_error(y_test, ypred)
print("MSE",mse)
mae = mean_absolute_error(y_test, ypred)
print("MAE",mae)
rsme = np.sqrt(mean_squared_error(y_test, ypred))
print("RMSE",rsme)

a=[[9.2,20,0]]
PredictedmodelResult = model.predict(a)
print (PredictedmodelResult)

import seaborn as sns
import matplotlib.pyplot as plt

true_values = np.random.rand(100)*100
predicted_values = true_values + np.random.normal(0,10,100)

sns.regplot(x=true_values, y=predicted_values, ci=None)

plt.xlabel('True Values')
plt.ylabel('Predicted Values')
plt.title('True Values vs Predicted Values')
plt.show()
